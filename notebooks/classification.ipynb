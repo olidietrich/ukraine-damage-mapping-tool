{
 "cells": [
  {
   "cell_type": "code",
   "execution_count": 1,
   "metadata": {},
   "outputs": [],
   "source": [
    "%load_ext autoreload\n",
    "%autoreload 2"
   ]
  },
  {
   "cell_type": "code",
   "execution_count": 2,
   "metadata": {},
   "outputs": [],
   "source": [
    "import geemap\n",
    "from src.utils.gee import init_gee\n",
    "\n",
    "init_gee()"
   ]
  },
  {
   "cell_type": "markdown",
   "metadata": {},
   "source": [
    "# Classification and compute metrics"
   ]
  },
  {
   "cell_type": "code",
   "execution_count": null,
   "metadata": {},
   "outputs": [
    {
     "data": {
      "text/html": [
       "\n",
       "            <style>\n",
       "                .geemap-dark {\n",
       "                    --jp-widgets-color: white;\n",
       "                    --jp-widgets-label-color: white;\n",
       "                    --jp-ui-font-color1: white;\n",
       "                    --jp-layout-color2: #454545;\n",
       "                    background-color: #383838;\n",
       "                }\n",
       "\n",
       "                .geemap-dark .jupyter-button {\n",
       "                    --jp-layout-color3: #383838;\n",
       "                }\n",
       "\n",
       "                .geemap-colab {\n",
       "                    background-color: var(--colab-primary-surface-color, white);\n",
       "                }\n",
       "\n",
       "                .geemap-colab .jupyter-button {\n",
       "                    --jp-layout-color3: var(--colab-primary-surface-color, white);\n",
       "                }\n",
       "            </style>\n",
       "            "
      ],
      "text/plain": [
       "<IPython.core.display.HTML object>"
      ]
     },
     "metadata": {},
     "output_type": "display_data"
    }
   ],
   "source": [
    "from omegaconf import OmegaConf\n",
    "from src.constants import ASSETS_PATH, DATA_PATH, AOIS_TEST\n",
    "from src.utils.gee import create_folder, asset_exists\n",
    "\n",
    "LOCAL_FOLDER = DATA_PATH / \"ablation_runs\"\n",
    "GEE_FOLDER = ASSETS_PATH + \"ablation_runs\"\n",
    "if not asset_exists(GEE_FOLDER):\n",
    "    create_folder(GEE_FOLDER)\n",
    "\n",
    "cfg = OmegaConf.create(\n",
    "    dict(\n",
    "        aggregation_method=\"mean\",\n",
    "        model_name=\"random_forest\",\n",
    "        model_kwargs=dict(numberOfTrees=50, minLeafPopulation=3, maxNodes=1e4),\n",
    "        data=dict(\n",
    "            s1=dict(subset_bands=None),\n",
    "            s2=None,\n",
    "            aois_test=AOIS_TEST,\n",
    "            damages_to_keep=[1, 2],\n",
    "            extract_winds=\"1x1\",\n",
    "            time_periods=dict(pre=(\"2020-02-24\", \"2021-02-23\"), post=\"3months\"),\n",
    "        ),\n",
    "        reducer_names=[\"mean\", \"stdDev\", \"median\", \"min\", \"max\", \"skew\", \"kurtosis\"],\n",
    "        seed=0,\n",
    "        gee_folder=GEE_FOLDER,\n",
    "        local_folder=LOCAL_FOLDER,\n",
    "        train_on_all_data=False,\n",
    "    )\n",
    ")"
   ]
  },
  {
   "cell_type": "code",
   "execution_count": 9,
   "metadata": {},
   "outputs": [
    {
     "data": {
      "text/html": [
       "\n",
       "            <style>\n",
       "                .geemap-dark {\n",
       "                    --jp-widgets-color: white;\n",
       "                    --jp-widgets-label-color: white;\n",
       "                    --jp-ui-font-color1: white;\n",
       "                    --jp-layout-color2: #454545;\n",
       "                    background-color: #383838;\n",
       "                }\n",
       "\n",
       "                .geemap-dark .jupyter-button {\n",
       "                    --jp-layout-color3: #383838;\n",
       "                }\n",
       "\n",
       "                .geemap-colab {\n",
       "                    background-color: var(--colab-primary-surface-color, white);\n",
       "                }\n",
       "\n",
       "                .geemap-colab .jupyter-button {\n",
       "                    --jp-layout-color3: var(--colab-primary-surface-color, white);\n",
       "                }\n",
       "            </style>\n",
       "            "
      ],
      "text/plain": [
       "<IPython.core.display.HTML object>"
      ]
     },
     "metadata": {},
     "output_type": "display_data"
    },
    {
     "name": "stdout",
     "output_type": "stream",
     "text": [
      "Running pipeline for rf_s1_3months_50trees_1x1_all7reducers\n",
      "              precision    recall  f1-score   support\n",
      "\n",
      "   no damage      0.828     0.933     0.877      7744\n",
      "     damaged      0.834     0.634     0.720      4113\n",
      "\n",
      "    accuracy                          0.829     11857\n",
      "   macro avg      0.831     0.783     0.799     11857\n",
      "weighted avg      0.830     0.829     0.823     11857\n",
      "\n",
      "full_pipeline executed in 0.14s\n"
     ]
    }
   ],
   "source": [
    "from src.classification.main import full_pipeline\n",
    "\n",
    "d_metrics = full_pipeline(cfg)"
   ]
  }
 ],
 "metadata": {
  "kernelspec": {
   "display_name": "Python 3",
   "language": "python",
   "name": "python3"
  },
  "language_info": {
   "codemirror_mode": {
    "name": "ipython",
    "version": 3
   },
   "file_extension": ".py",
   "mimetype": "text/x-python",
   "name": "python",
   "nbconvert_exporter": "python",
   "pygments_lexer": "ipython3",
   "version": "3.12.7"
  }
 },
 "nbformat": 4,
 "nbformat_minor": 2
}
